{
  "nbformat": 4,
  "nbformat_minor": 0,
  "metadata": {
    "colab": {
      "name": "DL Final Project.ipynb",
      "provenance": [],
      "collapsed_sections": [],
      "include_colab_link": true
    },
    "kernelspec": {
      "name": "python3",
      "display_name": "Python 3"
    },
    "accelerator": "GPU"
  },
  "cells": [
    {
      "cell_type": "markdown",
      "metadata": {
        "id": "view-in-github",
        "colab_type": "text"
      },
      "source": [
        "<a href=\"https://colab.research.google.com/github/omier/music-genre-classifier/blob/master/DL_Final_Project.ipynb\" target=\"_parent\"><img src=\"https://colab.research.google.com/assets/colab-badge.svg\" alt=\"Open In Colab\"/></a>"
      ]
    },
    {
      "cell_type": "code",
      "metadata": {
        "colab": {
          "base_uri": "https://localhost:8080/"
        },
        "id": "2gbZmnPu3pGb",
        "outputId": "d9f03582-ea42-4618-e090-4cb943047432"
      },
      "source": [
        "from google.colab import drive\n",
        "drive.mount('/content/drive')"
      ],
      "execution_count": 1,
      "outputs": [
        {
          "output_type": "stream",
          "text": [
            "Mounted at /content/drive\n"
          ],
          "name": "stdout"
        }
      ]
    },
    {
      "cell_type": "code",
      "metadata": {
        "id": "rIamYDp538BD"
      },
      "source": [
        "!unzip /content/drive/MyDrive/GTZAN.zip"
      ],
      "execution_count": null,
      "outputs": []
    },
    {
      "cell_type": "code",
      "metadata": {
        "id": "uVCt_U2z7_Pq"
      },
      "source": [
        "import torch\r\n",
        "import torch.nn as nn\r\n",
        "import torchvision\r\n",
        "import torchvision.transforms as transforms\r\n",
        "import torch.nn.functional as F\r\n",
        "import torch.optim as optim\r\n",
        "import math"
      ],
      "execution_count": 5,
      "outputs": []
    },
    {
      "cell_type": "code",
      "metadata": {
        "colab": {
          "base_uri": "https://localhost:8080/"
        },
        "id": "xaIFaYdU42OZ",
        "outputId": "61c774b3-7e0b-42eb-ea94-1204ed672e56"
      },
      "source": [
        "device = torch.device(\"cuda\" if torch.cuda.is_available() else \"cpu\")\r\n",
        "device"
      ],
      "execution_count": 4,
      "outputs": [
        {
          "output_type": "execute_result",
          "data": {
            "text/plain": [
              "device(type='cuda')"
            ]
          },
          "metadata": {
            "tags": []
          },
          "execution_count": 4
        }
      ]
    },
    {
      "cell_type": "code",
      "metadata": {
        "id": "AvX9PJ2IUpZb"
      },
      "source": [
        "img_data = 'Data/images_original/'\r\n",
        "dataset = torchvision.datasets.ImageFolder(\r\n",
        "    root=img_data,\r\n",
        "    transform=torchvision.transforms.ToTensor(),\r\n",
        ")"
      ],
      "execution_count": 6,
      "outputs": []
    },
    {
      "cell_type": "code",
      "metadata": {
        "id": "7X3KavxcxIew"
      },
      "source": [
        "# 60% train, 20% validate, 20% test\r\n",
        "trainset_size=math.ceil(len(dataset)*0.6)\r\n",
        "valset_size=math.ceil(len(dataset)*0.2)\r\n",
        "testset_size=len(dataset) - trainset_size - valset_size\r\n",
        "\r\n",
        "trainset, valset, testset = torch.utils.data.random_split(dataset, [trainset_size, valset_size, testset_size])"
      ],
      "execution_count": 7,
      "outputs": []
    },
    {
      "cell_type": "code",
      "metadata": {
        "id": "0Xs3rDG0xBmL"
      },
      "source": [
        "trainloader = torch.utils.data.DataLoader(trainset, batch_size=16,\n",
        "                                          shuffle=True)\n",
        "\n",
        "valloader = torch.utils.data.DataLoader(valset, batch_size=16,\n",
        "                                         shuffle=False)\n",
        "\n",
        "testloader = torch.utils.data.DataLoader(testset, batch_size=16,\n",
        "                                         shuffle=False)"
      ],
      "execution_count": 8,
      "outputs": []
    },
    {
      "cell_type": "code",
      "metadata": {
        "colab": {
          "base_uri": "https://localhost:8080/"
        },
        "id": "KtS4Sved1SIU",
        "outputId": "337ab118-d312-4693-b661-46c4ccf7988f"
      },
      "source": [
        "trainset[0][0].shape"
      ],
      "execution_count": 9,
      "outputs": [
        {
          "output_type": "execute_result",
          "data": {
            "text/plain": [
              "torch.Size([3, 288, 432])"
            ]
          },
          "metadata": {
            "tags": []
          },
          "execution_count": 9
        }
      ]
    },
    {
      "cell_type": "code",
      "metadata": {
        "id": "L8eoA6i9Nn63"
      },
      "source": [
        "class CNNGTZAN(nn.Module):\r\n",
        "\r\n",
        "    def __init__(self):\r\n",
        "        super(CNNGTZAN, self).__init__()\r\n",
        "\r\n",
        "        self.conv1 = nn.Conv2d(3, 16, 3)\r\n",
        "        self.conv2 = nn.Conv2d(16, 32, 3)\r\n",
        "        self.conv3 = nn.Conv2d(32, 64, 3)\r\n",
        "\r\n",
        "        # 288, 432 ->(3X3) 286, 430 ->(max pool 2X2) 143, 215 \r\n",
        "        # 143, 215 ->(3X3) 141, 213 ->(max pool 2X2) 70, 106 \r\n",
        "        # 70, 106  ->(3X3) 68, 104  ->(max pool 2X2) 34, 52\r\n",
        "        self.fc1 = nn.Linear(64 * 34 * 52, 128)\r\n",
        "        self.fc2 = nn.Linear(128, 64)\r\n",
        "        self.fc3 = nn.Linear(64, 10)\r\n",
        "\r\n",
        "    def forward(self, x):\r\n",
        "        # convolution layer 1 (convolution -> relu -> max pool 2X2)\r\n",
        "        x = F.max_pool2d(F.relu(self.conv1(x)), 2)\r\n",
        "        # convolution layer 2 (convolution -> relu -> max pool 2X2)\r\n",
        "        x = F.max_pool2d(F.relu(self.conv2(x)), 2)\r\n",
        "        # convolution layer 3 (convolution -> relu -> max pool 2X2)\r\n",
        "        x = F.max_pool2d(F.relu(self.conv3(x)), 2)\r\n",
        "\r\n",
        "        # flatten x to (batch_size, 64 * 34 * 52) matrix - per instance flatten\r\n",
        "        x = torch.flatten(x, start_dim=1)\r\n",
        "\r\n",
        "        # fully connected linear layers with relu activation function\r\n",
        "        x = F.relu(self.fc1(x))\r\n",
        "        x = F.relu(self.fc2(x))\r\n",
        "\r\n",
        "        # last fc linear layer\r\n",
        "        x = self.fc3(x)\r\n",
        "\r\n",
        "        return x"
      ],
      "execution_count": 12,
      "outputs": []
    },
    {
      "cell_type": "code",
      "metadata": {
        "id": "ijyiMd8E3Sm5"
      },
      "source": [
        "gtzan = CNNGTZAN().to(device=device)"
      ],
      "execution_count": 13,
      "outputs": []
    },
    {
      "cell_type": "code",
      "metadata": {
        "id": "gAvUQ5b96Djk"
      },
      "source": [
        "PRINT_EVERY = 5\r\n",
        "def train_loop(model, n_epochs):\r\n",
        "  # Loss function\r\n",
        "  criterion = nn.CrossEntropyLoss()\r\n",
        "\r\n",
        "  # Optimizer (ADAM is a fancy version of SGD)\r\n",
        "  optimizer = optim.Adam(model.parameters(), lr=0.0001)\r\n",
        "  \r\n",
        "  for e in range(1, n_epochs + 1):\r\n",
        "    running_loss = 0\r\n",
        "    for counter, data in enumerate(trainloader):\r\n",
        "      inputs, labels = data\r\n",
        "\r\n",
        "      predicted_labels = model(inputs.to(device=device))\r\n",
        "      optimizer.zero_grad()\r\n",
        "      loss = criterion(predicted_labels, labels.to(device=device))\r\n",
        "      loss.backward()\r\n",
        "      optimizer.step()\r\n",
        "\r\n",
        "      running_loss += loss.item()\r\n",
        "      \r\n",
        "      if counter % PRINT_EVERY == 0:\r\n",
        "          print('Epoch %d, %d/%d, Current Loss = %.4f' % (e, counter, len(trainloader), running_loss / PRINT_EVERY))\r\n",
        "          running_loss = 0\r\n"
      ],
      "execution_count": 28,
      "outputs": []
    },
    {
      "cell_type": "code",
      "metadata": {
        "id": "sIphTDvz6tSD"
      },
      "source": [
        "!pip3 install pytorch_lightning"
      ],
      "execution_count": null,
      "outputs": []
    },
    {
      "cell_type": "code",
      "metadata": {
        "id": "ulntLFh36t7b"
      },
      "source": [
        "from pytorch_lightning import metrics\r\n",
        "\r\n",
        "def evaluate(model, caption):\r\n",
        "  with torch.no_grad():\r\n",
        "    for dataset_descriptor, dataloader in [('validation', valloader), ('test', testloader)]:\r\n",
        "      recall = metrics.Recall(num_classes=len(dataset.classes), average='macro').to(device=device)\r\n",
        "      precision = metrics.Precision(num_classes=len(dataset.classes), average='macro').to(device=device)\r\n",
        "\r\n",
        "      for inputs, labels in dataloader:\r\n",
        "        \r\n",
        "        predicted_labels = model(inputs.to(device=device))\r\n",
        "        labels = labels.to(device=device)\r\n",
        "\r\n",
        "        recall.update(predicted_labels, labels)\r\n",
        "        precision.update(predicted_labels, labels)\r\n",
        "\r\n",
        "      print(\"%s: %s - recall: %.3f precision: %.3f\" % (caption, dataset_descriptor, recall.compute().item(), precision.compute().item()))"
      ],
      "execution_count": 36,
      "outputs": []
    },
    {
      "cell_type": "code",
      "metadata": {
        "colab": {
          "base_uri": "https://localhost:8080/"
        },
        "id": "Vt9WWBLk6gPb",
        "outputId": "38379945-8344-4e75-a38e-59e28adcfb52"
      },
      "source": [
        "train_loop(gtzan, 10)"
      ],
      "execution_count": 38,
      "outputs": [
        {
          "output_type": "stream",
          "text": [
            "Epoch 1, 0/38, Current Loss = 0.2541\n",
            "Epoch 1, 5/38, Current Loss = 1.6002\n",
            "Epoch 1, 10/38, Current Loss = 1.5540\n",
            "Epoch 1, 15/38, Current Loss = 1.8736\n",
            "Epoch 1, 20/38, Current Loss = 1.5337\n",
            "Epoch 1, 25/38, Current Loss = 1.6095\n",
            "Epoch 1, 30/38, Current Loss = 1.7928\n",
            "Epoch 1, 35/38, Current Loss = 1.4992\n",
            "Epoch 2, 0/38, Current Loss = 0.2789\n",
            "Epoch 2, 5/38, Current Loss = 1.4934\n",
            "Epoch 2, 10/38, Current Loss = 1.4920\n",
            "Epoch 2, 15/38, Current Loss = 1.5313\n",
            "Epoch 2, 20/38, Current Loss = 1.5133\n",
            "Epoch 2, 25/38, Current Loss = 1.6368\n",
            "Epoch 2, 30/38, Current Loss = 1.7158\n",
            "Epoch 2, 35/38, Current Loss = 1.6021\n",
            "Epoch 3, 0/38, Current Loss = 0.2863\n",
            "Epoch 3, 5/38, Current Loss = 1.5551\n",
            "Epoch 3, 10/38, Current Loss = 1.4448\n",
            "Epoch 3, 15/38, Current Loss = 1.4910\n",
            "Epoch 3, 20/38, Current Loss = 1.6684\n",
            "Epoch 3, 25/38, Current Loss = 1.4256\n",
            "Epoch 3, 30/38, Current Loss = 1.5601\n",
            "Epoch 3, 35/38, Current Loss = 1.5700\n",
            "Epoch 4, 0/38, Current Loss = 0.2840\n",
            "Epoch 4, 5/38, Current Loss = 1.4857\n",
            "Epoch 4, 10/38, Current Loss = 1.3163\n",
            "Epoch 4, 15/38, Current Loss = 1.4690\n",
            "Epoch 4, 20/38, Current Loss = 1.2947\n",
            "Epoch 4, 25/38, Current Loss = 1.7485\n",
            "Epoch 4, 30/38, Current Loss = 1.5562\n",
            "Epoch 4, 35/38, Current Loss = 1.5433\n",
            "Epoch 5, 0/38, Current Loss = 0.2163\n",
            "Epoch 5, 5/38, Current Loss = 1.3804\n",
            "Epoch 5, 10/38, Current Loss = 1.5197\n",
            "Epoch 5, 15/38, Current Loss = 1.3033\n",
            "Epoch 5, 20/38, Current Loss = 1.5758\n",
            "Epoch 5, 25/38, Current Loss = 1.4659\n",
            "Epoch 5, 30/38, Current Loss = 1.4504\n",
            "Epoch 5, 35/38, Current Loss = 1.5963\n",
            "Epoch 6, 0/38, Current Loss = 0.3177\n",
            "Epoch 6, 5/38, Current Loss = 1.5253\n",
            "Epoch 6, 10/38, Current Loss = 1.4287\n",
            "Epoch 6, 15/38, Current Loss = 1.5447\n",
            "Epoch 6, 20/38, Current Loss = 1.4464\n",
            "Epoch 6, 25/38, Current Loss = 1.4742\n",
            "Epoch 6, 30/38, Current Loss = 1.3839\n",
            "Epoch 6, 35/38, Current Loss = 1.3113\n",
            "Epoch 7, 0/38, Current Loss = 0.2758\n",
            "Epoch 7, 5/38, Current Loss = 1.4965\n",
            "Epoch 7, 10/38, Current Loss = 1.3348\n",
            "Epoch 7, 15/38, Current Loss = 1.3412\n",
            "Epoch 7, 20/38, Current Loss = 1.2313\n",
            "Epoch 7, 25/38, Current Loss = 1.2109\n",
            "Epoch 7, 30/38, Current Loss = 1.3476\n",
            "Epoch 7, 35/38, Current Loss = 1.3118\n",
            "Epoch 8, 0/38, Current Loss = 0.1977\n",
            "Epoch 8, 5/38, Current Loss = 1.5734\n",
            "Epoch 8, 10/38, Current Loss = 1.3837\n",
            "Epoch 8, 15/38, Current Loss = 1.3107\n",
            "Epoch 8, 20/38, Current Loss = 1.2494\n",
            "Epoch 8, 25/38, Current Loss = 1.2949\n",
            "Epoch 8, 30/38, Current Loss = 1.3003\n",
            "Epoch 8, 35/38, Current Loss = 1.2168\n",
            "Epoch 9, 0/38, Current Loss = 0.2309\n",
            "Epoch 9, 5/38, Current Loss = 1.4516\n",
            "Epoch 9, 10/38, Current Loss = 1.3105\n",
            "Epoch 9, 15/38, Current Loss = 1.3411\n",
            "Epoch 9, 20/38, Current Loss = 1.3235\n",
            "Epoch 9, 25/38, Current Loss = 1.1632\n",
            "Epoch 9, 30/38, Current Loss = 1.1444\n",
            "Epoch 9, 35/38, Current Loss = 1.1850\n",
            "Epoch 10, 0/38, Current Loss = 0.1902\n",
            "Epoch 10, 5/38, Current Loss = 1.2622\n",
            "Epoch 10, 10/38, Current Loss = 1.2476\n",
            "Epoch 10, 15/38, Current Loss = 1.2930\n",
            "Epoch 10, 20/38, Current Loss = 1.1260\n",
            "Epoch 10, 25/38, Current Loss = 1.2830\n",
            "Epoch 10, 30/38, Current Loss = 1.1455\n",
            "Epoch 10, 35/38, Current Loss = 1.1485\n"
          ],
          "name": "stdout"
        }
      ]
    },
    {
      "cell_type": "code",
      "metadata": {
        "colab": {
          "base_uri": "https://localhost:8080/"
        },
        "id": "n_D6yrlh_Bo6",
        "outputId": "0d545795-aee5-4308-eef5-027c456f67bd"
      },
      "source": [
        "evaluate(gtzan, \"gtzan\")"
      ],
      "execution_count": 39,
      "outputs": [
        {
          "output_type": "stream",
          "text": [
            "gtzan: validation - recall: 0.443 precision: 0.506\n",
            "gtzan: test - recall: 0.477 precision: 0.439\n"
          ],
          "name": "stdout"
        }
      ]
    }
  ]
}